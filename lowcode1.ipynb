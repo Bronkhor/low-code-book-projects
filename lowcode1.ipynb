{
  "nbformat": 4,
  "nbformat_minor": 0,
  "metadata": {
    "colab": {
      "provenance": [],
      "authorship_tag": "ABX9TyMp3BPqV7wjC57FB/LwPzJT",
      "include_colab_link": true
    },
    "kernelspec": {
      "name": "python3",
      "display_name": "Python 3"
    },
    "language_info": {
      "name": "python"
    }
  },
  "cells": [
    {
      "cell_type": "markdown",
      "metadata": {
        "id": "view-in-github",
        "colab_type": "text"
      },
      "source": [
        "<a href=\"https://colab.research.google.com/github/Bronkhor/low-code-book-projects/blob/main/lowcode1.ipynb\" target=\"_parent\"><img src=\"https://colab.research.google.com/assets/colab-badge.svg\" alt=\"Open In Colab\"/></a>"
      ]
    },
    {
      "cell_type": "code",
      "execution_count": null,
      "metadata": {
        "id": "acG3G4UxDGNH"
      },
      "outputs": [],
      "source": []
    },
    {
      "cell_type": "code",
      "source": [
        "import pandas as pd\n",
        "url= 'https://data.cdc.gov/api/views/jiwm-ppbh/rows.csv?accessType=DOWNLOAD'\n",
        "heart_df = pd.read_csv(url, index_col=0)"
      ],
      "metadata": {
        "id": "lGcl_mX-DUEB"
      },
      "execution_count": null,
      "outputs": []
    },
    {
      "cell_type": "code",
      "source": [
        "heart_df.head()\n"
      ],
      "metadata": {
        "colab": {
          "base_uri": "https://localhost:8080/",
          "height": 518
        },
        "id": "Fze3_89TEslH",
        "outputId": "8da3f127-3a37-4e55-f395-8e2f0f6b8fc1"
      },
      "execution_count": null,
      "outputs": [
        {
          "output_type": "execute_result",
          "data": {
            "text/plain": [
              "     LocationAbbr    LocationDesc GeographicLevel DataSource  \\\n",
              "Year                                                           \n",
              "2019           AK  Aleutians East          County       NVSS   \n",
              "2019           AK  Aleutians West          County       NVSS   \n",
              "2019           AK       Anchorage          County       NVSS   \n",
              "2019           AK          Bethel          County       NVSS   \n",
              "2019           AK     Bristol Bay          County       NVSS   \n",
              "\n",
              "                        Class                    Topic  Data_Value  \\\n",
              "Year                                                                 \n",
              "2019  Cardiovascular Diseases  Heart Disease Mortality       182.4   \n",
              "2019  Cardiovascular Diseases  Heart Disease Mortality       172.6   \n",
              "2019  Cardiovascular Diseases  Heart Disease Mortality       255.6   \n",
              "2019  Cardiovascular Diseases  Heart Disease Mortality       343.4   \n",
              "2019  Cardiovascular Diseases  Heart Disease Mortality         NaN   \n",
              "\n",
              "             Data_Value_Unit  \\\n",
              "Year                           \n",
              "2019  per 100,000 population   \n",
              "2019  per 100,000 population   \n",
              "2019  per 100,000 population   \n",
              "2019  per 100,000 population   \n",
              "2019  per 100,000 population   \n",
              "\n",
              "                                        Data_Value_Type  \\\n",
              "Year                                                      \n",
              "2019  Age-adjusted, Spatially Smoothed, 3-year Avera...   \n",
              "2019  Age-adjusted, Spatially Smoothed, 3-year Avera...   \n",
              "2019  Age-adjusted, Spatially Smoothed, 3-year Avera...   \n",
              "2019  Age-adjusted, Spatially Smoothed, 3-year Avera...   \n",
              "2019  Age-adjusted, Spatially Smoothed, 3-year Avera...   \n",
              "\n",
              "     Data_Value_Footnote_Symbol Data_Value_Footnote StratificationCategory1  \\\n",
              "Year                                                                          \n",
              "2019                        NaN                 NaN                  Gender   \n",
              "2019                        NaN                 NaN                  Gender   \n",
              "2019                        NaN                 NaN                  Gender   \n",
              "2019                        NaN                 NaN                  Gender   \n",
              "2019                          ~   Insufficient Data                  Gender   \n",
              "\n",
              "     Stratification1 StratificationCategory2 Stratification2 TopicID  \\\n",
              "Year                                                                   \n",
              "2019         Overall          Race/Ethnicity         Overall      T2   \n",
              "2019         Overall          Race/Ethnicity         Overall      T2   \n",
              "2019         Overall          Race/Ethnicity         Overall      T2   \n",
              "2019         Overall          Race/Ethnicity         Overall      T2   \n",
              "2019         Overall          Race/Ethnicity         Overall      T2   \n",
              "\n",
              "      LocationID      Y_lat       X_lon  \n",
              "Year                                     \n",
              "2019        2013  55.442393 -161.959930  \n",
              "2019        2016  53.648343 -166.917533  \n",
              "2019        2020  61.159145 -149.104559  \n",
              "2019        2050  60.923648 -159.753262  \n",
              "2019        2060  58.753496 -156.694662  "
            ],
            "text/html": [
              "\n",
              "  <div id=\"df-a76921f1-98ec-42d9-bb56-f4eae3299b1d\" class=\"colab-df-container\">\n",
              "    <div>\n",
              "<style scoped>\n",
              "    .dataframe tbody tr th:only-of-type {\n",
              "        vertical-align: middle;\n",
              "    }\n",
              "\n",
              "    .dataframe tbody tr th {\n",
              "        vertical-align: top;\n",
              "    }\n",
              "\n",
              "    .dataframe thead th {\n",
              "        text-align: right;\n",
              "    }\n",
              "</style>\n",
              "<table border=\"1\" class=\"dataframe\">\n",
              "  <thead>\n",
              "    <tr style=\"text-align: right;\">\n",
              "      <th></th>\n",
              "      <th>LocationAbbr</th>\n",
              "      <th>LocationDesc</th>\n",
              "      <th>GeographicLevel</th>\n",
              "      <th>DataSource</th>\n",
              "      <th>Class</th>\n",
              "      <th>Topic</th>\n",
              "      <th>Data_Value</th>\n",
              "      <th>Data_Value_Unit</th>\n",
              "      <th>Data_Value_Type</th>\n",
              "      <th>Data_Value_Footnote_Symbol</th>\n",
              "      <th>Data_Value_Footnote</th>\n",
              "      <th>StratificationCategory1</th>\n",
              "      <th>Stratification1</th>\n",
              "      <th>StratificationCategory2</th>\n",
              "      <th>Stratification2</th>\n",
              "      <th>TopicID</th>\n",
              "      <th>LocationID</th>\n",
              "      <th>Y_lat</th>\n",
              "      <th>X_lon</th>\n",
              "    </tr>\n",
              "    <tr>\n",
              "      <th>Year</th>\n",
              "      <th></th>\n",
              "      <th></th>\n",
              "      <th></th>\n",
              "      <th></th>\n",
              "      <th></th>\n",
              "      <th></th>\n",
              "      <th></th>\n",
              "      <th></th>\n",
              "      <th></th>\n",
              "      <th></th>\n",
              "      <th></th>\n",
              "      <th></th>\n",
              "      <th></th>\n",
              "      <th></th>\n",
              "      <th></th>\n",
              "      <th></th>\n",
              "      <th></th>\n",
              "      <th></th>\n",
              "      <th></th>\n",
              "    </tr>\n",
              "  </thead>\n",
              "  <tbody>\n",
              "    <tr>\n",
              "      <th>2019</th>\n",
              "      <td>AK</td>\n",
              "      <td>Aleutians East</td>\n",
              "      <td>County</td>\n",
              "      <td>NVSS</td>\n",
              "      <td>Cardiovascular Diseases</td>\n",
              "      <td>Heart Disease Mortality</td>\n",
              "      <td>182.4</td>\n",
              "      <td>per 100,000 population</td>\n",
              "      <td>Age-adjusted, Spatially Smoothed, 3-year Avera...</td>\n",
              "      <td>NaN</td>\n",
              "      <td>NaN</td>\n",
              "      <td>Gender</td>\n",
              "      <td>Overall</td>\n",
              "      <td>Race/Ethnicity</td>\n",
              "      <td>Overall</td>\n",
              "      <td>T2</td>\n",
              "      <td>2013</td>\n",
              "      <td>55.442393</td>\n",
              "      <td>-161.959930</td>\n",
              "    </tr>\n",
              "    <tr>\n",
              "      <th>2019</th>\n",
              "      <td>AK</td>\n",
              "      <td>Aleutians West</td>\n",
              "      <td>County</td>\n",
              "      <td>NVSS</td>\n",
              "      <td>Cardiovascular Diseases</td>\n",
              "      <td>Heart Disease Mortality</td>\n",
              "      <td>172.6</td>\n",
              "      <td>per 100,000 population</td>\n",
              "      <td>Age-adjusted, Spatially Smoothed, 3-year Avera...</td>\n",
              "      <td>NaN</td>\n",
              "      <td>NaN</td>\n",
              "      <td>Gender</td>\n",
              "      <td>Overall</td>\n",
              "      <td>Race/Ethnicity</td>\n",
              "      <td>Overall</td>\n",
              "      <td>T2</td>\n",
              "      <td>2016</td>\n",
              "      <td>53.648343</td>\n",
              "      <td>-166.917533</td>\n",
              "    </tr>\n",
              "    <tr>\n",
              "      <th>2019</th>\n",
              "      <td>AK</td>\n",
              "      <td>Anchorage</td>\n",
              "      <td>County</td>\n",
              "      <td>NVSS</td>\n",
              "      <td>Cardiovascular Diseases</td>\n",
              "      <td>Heart Disease Mortality</td>\n",
              "      <td>255.6</td>\n",
              "      <td>per 100,000 population</td>\n",
              "      <td>Age-adjusted, Spatially Smoothed, 3-year Avera...</td>\n",
              "      <td>NaN</td>\n",
              "      <td>NaN</td>\n",
              "      <td>Gender</td>\n",
              "      <td>Overall</td>\n",
              "      <td>Race/Ethnicity</td>\n",
              "      <td>Overall</td>\n",
              "      <td>T2</td>\n",
              "      <td>2020</td>\n",
              "      <td>61.159145</td>\n",
              "      <td>-149.104559</td>\n",
              "    </tr>\n",
              "    <tr>\n",
              "      <th>2019</th>\n",
              "      <td>AK</td>\n",
              "      <td>Bethel</td>\n",
              "      <td>County</td>\n",
              "      <td>NVSS</td>\n",
              "      <td>Cardiovascular Diseases</td>\n",
              "      <td>Heart Disease Mortality</td>\n",
              "      <td>343.4</td>\n",
              "      <td>per 100,000 population</td>\n",
              "      <td>Age-adjusted, Spatially Smoothed, 3-year Avera...</td>\n",
              "      <td>NaN</td>\n",
              "      <td>NaN</td>\n",
              "      <td>Gender</td>\n",
              "      <td>Overall</td>\n",
              "      <td>Race/Ethnicity</td>\n",
              "      <td>Overall</td>\n",
              "      <td>T2</td>\n",
              "      <td>2050</td>\n",
              "      <td>60.923648</td>\n",
              "      <td>-159.753262</td>\n",
              "    </tr>\n",
              "    <tr>\n",
              "      <th>2019</th>\n",
              "      <td>AK</td>\n",
              "      <td>Bristol Bay</td>\n",
              "      <td>County</td>\n",
              "      <td>NVSS</td>\n",
              "      <td>Cardiovascular Diseases</td>\n",
              "      <td>Heart Disease Mortality</td>\n",
              "      <td>NaN</td>\n",
              "      <td>per 100,000 population</td>\n",
              "      <td>Age-adjusted, Spatially Smoothed, 3-year Avera...</td>\n",
              "      <td>~</td>\n",
              "      <td>Insufficient Data</td>\n",
              "      <td>Gender</td>\n",
              "      <td>Overall</td>\n",
              "      <td>Race/Ethnicity</td>\n",
              "      <td>Overall</td>\n",
              "      <td>T2</td>\n",
              "      <td>2060</td>\n",
              "      <td>58.753496</td>\n",
              "      <td>-156.694662</td>\n",
              "    </tr>\n",
              "  </tbody>\n",
              "</table>\n",
              "</div>\n",
              "    <div class=\"colab-df-buttons\">\n",
              "\n",
              "  <div class=\"colab-df-container\">\n",
              "    <button class=\"colab-df-convert\" onclick=\"convertToInteractive('df-a76921f1-98ec-42d9-bb56-f4eae3299b1d')\"\n",
              "            title=\"Convert this dataframe to an interactive table.\"\n",
              "            style=\"display:none;\">\n",
              "\n",
              "  <svg xmlns=\"http://www.w3.org/2000/svg\" height=\"24px\" viewBox=\"0 -960 960 960\">\n",
              "    <path d=\"M120-120v-720h720v720H120Zm60-500h600v-160H180v160Zm220 220h160v-160H400v160Zm0 220h160v-160H400v160ZM180-400h160v-160H180v160Zm440 0h160v-160H620v160ZM180-180h160v-160H180v160Zm440 0h160v-160H620v160Z\"/>\n",
              "  </svg>\n",
              "    </button>\n",
              "\n",
              "  <style>\n",
              "    .colab-df-container {\n",
              "      display:flex;\n",
              "      gap: 12px;\n",
              "    }\n",
              "\n",
              "    .colab-df-convert {\n",
              "      background-color: #E8F0FE;\n",
              "      border: none;\n",
              "      border-radius: 50%;\n",
              "      cursor: pointer;\n",
              "      display: none;\n",
              "      fill: #1967D2;\n",
              "      height: 32px;\n",
              "      padding: 0 0 0 0;\n",
              "      width: 32px;\n",
              "    }\n",
              "\n",
              "    .colab-df-convert:hover {\n",
              "      background-color: #E2EBFA;\n",
              "      box-shadow: 0px 1px 2px rgba(60, 64, 67, 0.3), 0px 1px 3px 1px rgba(60, 64, 67, 0.15);\n",
              "      fill: #174EA6;\n",
              "    }\n",
              "\n",
              "    .colab-df-buttons div {\n",
              "      margin-bottom: 4px;\n",
              "    }\n",
              "\n",
              "    [theme=dark] .colab-df-convert {\n",
              "      background-color: #3B4455;\n",
              "      fill: #D2E3FC;\n",
              "    }\n",
              "\n",
              "    [theme=dark] .colab-df-convert:hover {\n",
              "      background-color: #434B5C;\n",
              "      box-shadow: 0px 1px 3px 1px rgba(0, 0, 0, 0.15);\n",
              "      filter: drop-shadow(0px 1px 2px rgba(0, 0, 0, 0.3));\n",
              "      fill: #FFFFFF;\n",
              "    }\n",
              "  </style>\n",
              "\n",
              "    <script>\n",
              "      const buttonEl =\n",
              "        document.querySelector('#df-a76921f1-98ec-42d9-bb56-f4eae3299b1d button.colab-df-convert');\n",
              "      buttonEl.style.display =\n",
              "        google.colab.kernel.accessAllowed ? 'block' : 'none';\n",
              "\n",
              "      async function convertToInteractive(key) {\n",
              "        const element = document.querySelector('#df-a76921f1-98ec-42d9-bb56-f4eae3299b1d');\n",
              "        const dataTable =\n",
              "          await google.colab.kernel.invokeFunction('convertToInteractive',\n",
              "                                                    [key], {});\n",
              "        if (!dataTable) return;\n",
              "\n",
              "        const docLinkHtml = 'Like what you see? Visit the ' +\n",
              "          '<a target=\"_blank\" href=https://colab.research.google.com/notebooks/data_table.ipynb>data table notebook</a>'\n",
              "          + ' to learn more about interactive tables.';\n",
              "        element.innerHTML = '';\n",
              "        dataTable['output_type'] = 'display_data';\n",
              "        await google.colab.output.renderOutput(dataTable, element);\n",
              "        const docLink = document.createElement('div');\n",
              "        docLink.innerHTML = docLinkHtml;\n",
              "        element.appendChild(docLink);\n",
              "      }\n",
              "    </script>\n",
              "  </div>\n",
              "\n",
              "\n",
              "<div id=\"df-add44adc-4a51-4d22-9ad4-5438575cf52f\">\n",
              "  <button class=\"colab-df-quickchart\" onclick=\"quickchart('df-add44adc-4a51-4d22-9ad4-5438575cf52f')\"\n",
              "            title=\"Suggest charts\"\n",
              "            style=\"display:none;\">\n",
              "\n",
              "<svg xmlns=\"http://www.w3.org/2000/svg\" height=\"24px\"viewBox=\"0 0 24 24\"\n",
              "     width=\"24px\">\n",
              "    <g>\n",
              "        <path d=\"M19 3H5c-1.1 0-2 .9-2 2v14c0 1.1.9 2 2 2h14c1.1 0 2-.9 2-2V5c0-1.1-.9-2-2-2zM9 17H7v-7h2v7zm4 0h-2V7h2v10zm4 0h-2v-4h2v4z\"/>\n",
              "    </g>\n",
              "</svg>\n",
              "  </button>\n",
              "\n",
              "<style>\n",
              "  .colab-df-quickchart {\n",
              "      --bg-color: #E8F0FE;\n",
              "      --fill-color: #1967D2;\n",
              "      --hover-bg-color: #E2EBFA;\n",
              "      --hover-fill-color: #174EA6;\n",
              "      --disabled-fill-color: #AAA;\n",
              "      --disabled-bg-color: #DDD;\n",
              "  }\n",
              "\n",
              "  [theme=dark] .colab-df-quickchart {\n",
              "      --bg-color: #3B4455;\n",
              "      --fill-color: #D2E3FC;\n",
              "      --hover-bg-color: #434B5C;\n",
              "      --hover-fill-color: #FFFFFF;\n",
              "      --disabled-bg-color: #3B4455;\n",
              "      --disabled-fill-color: #666;\n",
              "  }\n",
              "\n",
              "  .colab-df-quickchart {\n",
              "    background-color: var(--bg-color);\n",
              "    border: none;\n",
              "    border-radius: 50%;\n",
              "    cursor: pointer;\n",
              "    display: none;\n",
              "    fill: var(--fill-color);\n",
              "    height: 32px;\n",
              "    padding: 0;\n",
              "    width: 32px;\n",
              "  }\n",
              "\n",
              "  .colab-df-quickchart:hover {\n",
              "    background-color: var(--hover-bg-color);\n",
              "    box-shadow: 0 1px 2px rgba(60, 64, 67, 0.3), 0 1px 3px 1px rgba(60, 64, 67, 0.15);\n",
              "    fill: var(--button-hover-fill-color);\n",
              "  }\n",
              "\n",
              "  .colab-df-quickchart-complete:disabled,\n",
              "  .colab-df-quickchart-complete:disabled:hover {\n",
              "    background-color: var(--disabled-bg-color);\n",
              "    fill: var(--disabled-fill-color);\n",
              "    box-shadow: none;\n",
              "  }\n",
              "\n",
              "  .colab-df-spinner {\n",
              "    border: 2px solid var(--fill-color);\n",
              "    border-color: transparent;\n",
              "    border-bottom-color: var(--fill-color);\n",
              "    animation:\n",
              "      spin 1s steps(1) infinite;\n",
              "  }\n",
              "\n",
              "  @keyframes spin {\n",
              "    0% {\n",
              "      border-color: transparent;\n",
              "      border-bottom-color: var(--fill-color);\n",
              "      border-left-color: var(--fill-color);\n",
              "    }\n",
              "    20% {\n",
              "      border-color: transparent;\n",
              "      border-left-color: var(--fill-color);\n",
              "      border-top-color: var(--fill-color);\n",
              "    }\n",
              "    30% {\n",
              "      border-color: transparent;\n",
              "      border-left-color: var(--fill-color);\n",
              "      border-top-color: var(--fill-color);\n",
              "      border-right-color: var(--fill-color);\n",
              "    }\n",
              "    40% {\n",
              "      border-color: transparent;\n",
              "      border-right-color: var(--fill-color);\n",
              "      border-top-color: var(--fill-color);\n",
              "    }\n",
              "    60% {\n",
              "      border-color: transparent;\n",
              "      border-right-color: var(--fill-color);\n",
              "    }\n",
              "    80% {\n",
              "      border-color: transparent;\n",
              "      border-right-color: var(--fill-color);\n",
              "      border-bottom-color: var(--fill-color);\n",
              "    }\n",
              "    90% {\n",
              "      border-color: transparent;\n",
              "      border-bottom-color: var(--fill-color);\n",
              "    }\n",
              "  }\n",
              "</style>\n",
              "\n",
              "  <script>\n",
              "    async function quickchart(key) {\n",
              "      const quickchartButtonEl =\n",
              "        document.querySelector('#' + key + ' button');\n",
              "      quickchartButtonEl.disabled = true;  // To prevent multiple clicks.\n",
              "      quickchartButtonEl.classList.add('colab-df-spinner');\n",
              "      try {\n",
              "        const charts = await google.colab.kernel.invokeFunction(\n",
              "            'suggestCharts', [key], {});\n",
              "      } catch (error) {\n",
              "        console.error('Error during call to suggestCharts:', error);\n",
              "      }\n",
              "      quickchartButtonEl.classList.remove('colab-df-spinner');\n",
              "      quickchartButtonEl.classList.add('colab-df-quickchart-complete');\n",
              "    }\n",
              "    (() => {\n",
              "      let quickchartButtonEl =\n",
              "        document.querySelector('#df-add44adc-4a51-4d22-9ad4-5438575cf52f button');\n",
              "      quickchartButtonEl.style.display =\n",
              "        google.colab.kernel.accessAllowed ? 'block' : 'none';\n",
              "    })();\n",
              "  </script>\n",
              "</div>\n",
              "\n",
              "    </div>\n",
              "  </div>\n"
            ],
            "application/vnd.google.colaboratory.intrinsic+json": {
              "type": "dataframe",
              "variable_name": "heart_df",
              "summary": "{\n  \"name\": \"heart_df\",\n  \"rows\": 59094,\n  \"fields\": [\n    {\n      \"column\": \"Year\",\n      \"properties\": {\n        \"dtype\": \"number\",\n        \"std\": 0,\n        \"min\": 2019,\n        \"max\": 2019,\n        \"num_unique_values\": 1,\n        \"samples\": [\n          2019\n        ],\n        \"semantic_type\": \"\",\n        \"description\": \"\"\n      }\n    },\n    {\n      \"column\": \"LocationAbbr\",\n      \"properties\": {\n        \"dtype\": \"category\",\n        \"num_unique_values\": 57,\n        \"samples\": [\n          \"AK\"\n        ],\n        \"semantic_type\": \"\",\n        \"description\": \"\"\n      }\n    },\n    {\n      \"column\": \"LocationDesc\",\n      \"properties\": {\n        \"dtype\": \"category\",\n        \"num_unique_values\": 2022,\n        \"samples\": [\n          \"Labette County\"\n        ],\n        \"semantic_type\": \"\",\n        \"description\": \"\"\n      }\n    },\n    {\n      \"column\": \"GeographicLevel\",\n      \"properties\": {\n        \"dtype\": \"category\",\n        \"num_unique_values\": 3,\n        \"samples\": [\n          \"County\"\n        ],\n        \"semantic_type\": \"\",\n        \"description\": \"\"\n      }\n    },\n    {\n      \"column\": \"DataSource\",\n      \"properties\": {\n        \"dtype\": \"category\",\n        \"num_unique_values\": 1,\n        \"samples\": [\n          \"NVSS\"\n        ],\n        \"semantic_type\": \"\",\n        \"description\": \"\"\n      }\n    },\n    {\n      \"column\": \"Class\",\n      \"properties\": {\n        \"dtype\": \"category\",\n        \"num_unique_values\": 1,\n        \"samples\": [\n          \"Cardiovascular Diseases\"\n        ],\n        \"semantic_type\": \"\",\n        \"description\": \"\"\n      }\n    },\n    {\n      \"column\": \"Topic\",\n      \"properties\": {\n        \"dtype\": \"category\",\n        \"num_unique_values\": 1,\n        \"samples\": [\n          \"Heart Disease Mortality\"\n        ],\n        \"semantic_type\": \"\",\n        \"description\": \"\"\n      }\n    },\n    {\n      \"column\": \"Data_Value\",\n      \"properties\": {\n        \"dtype\": \"number\",\n        \"std\": 148.00426360612417,\n        \"min\": 0.0,\n        \"max\": 2312.1,\n        \"num_unique_values\": 6399,\n        \"samples\": [\n          249.2\n        ],\n        \"semantic_type\": \"\",\n        \"description\": \"\"\n      }\n    },\n    {\n      \"column\": \"Data_Value_Unit\",\n      \"properties\": {\n        \"dtype\": \"category\",\n        \"num_unique_values\": 1,\n        \"samples\": [\n          \"per 100,000 population\"\n        ],\n        \"semantic_type\": \"\",\n        \"description\": \"\"\n      }\n    },\n    {\n      \"column\": \"Data_Value_Type\",\n      \"properties\": {\n        \"dtype\": \"category\",\n        \"num_unique_values\": 2,\n        \"samples\": [\n          \"Age-adjusted, 3-year Average Rate\"\n        ],\n        \"semantic_type\": \"\",\n        \"description\": \"\"\n      }\n    },\n    {\n      \"column\": \"Data_Value_Footnote_Symbol\",\n      \"properties\": {\n        \"dtype\": \"category\",\n        \"num_unique_values\": 1,\n        \"samples\": [\n          \"~\"\n        ],\n        \"semantic_type\": \"\",\n        \"description\": \"\"\n      }\n    },\n    {\n      \"column\": \"Data_Value_Footnote\",\n      \"properties\": {\n        \"dtype\": \"category\",\n        \"num_unique_values\": 1,\n        \"samples\": [\n          \"Insufficient Data\"\n        ],\n        \"semantic_type\": \"\",\n        \"description\": \"\"\n      }\n    },\n    {\n      \"column\": \"StratificationCategory1\",\n      \"properties\": {\n        \"dtype\": \"category\",\n        \"num_unique_values\": 1,\n        \"samples\": [\n          \"Gender\"\n        ],\n        \"semantic_type\": \"\",\n        \"description\": \"\"\n      }\n    },\n    {\n      \"column\": \"Stratification1\",\n      \"properties\": {\n        \"dtype\": \"category\",\n        \"num_unique_values\": 3,\n        \"samples\": [\n          \"Overall\"\n        ],\n        \"semantic_type\": \"\",\n        \"description\": \"\"\n      }\n    },\n    {\n      \"column\": \"StratificationCategory2\",\n      \"properties\": {\n        \"dtype\": \"category\",\n        \"num_unique_values\": 1,\n        \"samples\": [\n          \"Race/Ethnicity\"\n        ],\n        \"semantic_type\": \"\",\n        \"description\": \"\"\n      }\n    },\n    {\n      \"column\": \"Stratification2\",\n      \"properties\": {\n        \"dtype\": \"category\",\n        \"num_unique_values\": 6,\n        \"samples\": [\n          \"Overall\"\n        ],\n        \"semantic_type\": \"\",\n        \"description\": \"\"\n      }\n    },\n    {\n      \"column\": \"TopicID\",\n      \"properties\": {\n        \"dtype\": \"category\",\n        \"num_unique_values\": 1,\n        \"samples\": [\n          \"T2\"\n        ],\n        \"semantic_type\": \"\",\n        \"description\": \"\"\n      }\n    },\n    {\n      \"column\": \"LocationID\",\n      \"properties\": {\n        \"dtype\": \"number\",\n        \"std\": 16737,\n        \"min\": 0,\n        \"max\": 78030,\n        \"num_unique_values\": 3283,\n        \"samples\": [\n          30055\n        ],\n        \"semantic_type\": \"\",\n        \"description\": \"\"\n      }\n    },\n    {\n      \"column\": \"Y_lat\",\n      \"properties\": {\n        \"dtype\": \"number\",\n        \"std\": 6.326394659703452,\n        \"min\": -14.30175426,\n        \"max\": 69.309529075,\n        \"num_unique_values\": 3282,\n        \"samples\": [\n          47.645709037\n        ],\n        \"semantic_type\": \"\",\n        \"description\": \"\"\n      }\n    },\n    {\n      \"column\": \"X_lon\",\n      \"properties\": {\n        \"dtype\": \"number\",\n        \"std\": 15.942302402659742,\n        \"min\": -170.7194738,\n        \"max\": 145.75125879,\n        \"num_unique_values\": 3282,\n        \"samples\": [\n          -105.8044505\n        ],\n        \"semantic_type\": \"\",\n        \"description\": \"\"\n      }\n    }\n  ]\n}"
            }
          },
          "metadata": {},
          "execution_count": 7
        }
      ]
    },
    {
      "cell_type": "code",
      "source": [
        "heart_df.info()"
      ],
      "metadata": {
        "id": "IRCsxF-VGRjV",
        "outputId": "e4f471d2-2ecf-4bfe-85ba-e2ba69926194",
        "colab": {
          "base_uri": "https://localhost:8080/"
        }
      },
      "execution_count": null,
      "outputs": [
        {
          "output_type": "stream",
          "name": "stdout",
          "text": [
            "<class 'pandas.core.frame.DataFrame'>\n",
            "Index: 59094 entries, 2019 to 2019\n",
            "Data columns (total 19 columns):\n",
            " #   Column                      Non-Null Count  Dtype  \n",
            "---  ------                      --------------  -----  \n",
            " 0   LocationAbbr                59094 non-null  object \n",
            " 1   LocationDesc                59094 non-null  object \n",
            " 2   GeographicLevel             59094 non-null  object \n",
            " 3   DataSource                  59094 non-null  object \n",
            " 4   Class                       59094 non-null  object \n",
            " 5   Topic                       59094 non-null  object \n",
            " 6   Data_Value                  33087 non-null  float64\n",
            " 7   Data_Value_Unit             59094 non-null  object \n",
            " 8   Data_Value_Type             59094 non-null  object \n",
            " 9   Data_Value_Footnote_Symbol  26007 non-null  object \n",
            " 10  Data_Value_Footnote         26007 non-null  object \n",
            " 11  StratificationCategory1     59094 non-null  object \n",
            " 12  Stratification1             59094 non-null  object \n",
            " 13  StratificationCategory2     59094 non-null  object \n",
            " 14  Stratification2             59094 non-null  object \n",
            " 15  TopicID                     59094 non-null  object \n",
            " 16  LocationID                  59094 non-null  int64  \n",
            " 17  Y_lat                       59076 non-null  float64\n",
            " 18  X_lon                       59076 non-null  float64\n",
            "dtypes: float64(3), int64(1), object(15)\n",
            "memory usage: 9.0+ MB\n"
          ]
        }
      ]
    },
    {
      "cell_type": "code",
      "source": [
        "heart_df=pd.read_csv('/content/Heart.csv',on_bad_lines='skip', engine=\"python\")\n",
        "heart_df.head()\n",
        "heart_df.info()\n",
        "\n",
        "\n",
        "\n",
        "\n",
        ""
      ],
      "metadata": {
        "colab": {
          "base_uri": "https://localhost:8080/"
        },
        "id": "PMy6SwsaJYxh",
        "outputId": "22cb5596-4827-4d00-98ce-5510f6d97983"
      },
      "execution_count": 28,
      "outputs": [
        {
          "output_type": "stream",
          "name": "stdout",
          "text": [
            "<class 'pandas.core.frame.DataFrame'>\n",
            "RangeIndex: 20549 entries, 0 to 20548\n",
            "Data columns (total 20 columns):\n",
            " #   Column                      Non-Null Count  Dtype  \n",
            "---  ------                      --------------  -----  \n",
            " 0   Year                        20549 non-null  int64  \n",
            " 1   LocationAbbr                20549 non-null  object \n",
            " 2   LocationDesc                20549 non-null  object \n",
            " 3   GeographicLevel             20549 non-null  object \n",
            " 4   DataSource                  20549 non-null  object \n",
            " 5   Class                       20549 non-null  object \n",
            " 6   Topic                       20549 non-null  object \n",
            " 7   Data_Value                  11622 non-null  float64\n",
            " 8   Data_Value_Unit             20549 non-null  object \n",
            " 9   Data_Value_Type             20549 non-null  object \n",
            " 10  Data_Value_Footnote_Symbol  8927 non-null   object \n",
            " 11  Data_Value_Footnote         8927 non-null   object \n",
            " 12  StratificationCategory1     20549 non-null  object \n",
            " 13  Stratification1             20549 non-null  object \n",
            " 14  StratificationCategory2     20549 non-null  object \n",
            " 15  Stratification2             20549 non-null  object \n",
            " 16  TopicID                     20549 non-null  object \n",
            " 17  LocationID                  20549 non-null  int64  \n",
            " 18  Y_lat                       20549 non-null  float64\n",
            " 19  X_lon                       20549 non-null  float64\n",
            "dtypes: float64(3), int64(2), object(15)\n",
            "memory usage: 3.1+ MB\n"
          ]
        }
      ]
    },
    {
      "cell_type": "code",
      "source": [
        "heart_df.isnull().sum()\n"
      ],
      "metadata": {
        "colab": {
          "base_uri": "https://localhost:8080/"
        },
        "id": "l6Vp2wt0P6-m",
        "outputId": "421766ae-837d-40b8-f418-37b1ca0f83dc"
      },
      "execution_count": 29,
      "outputs": [
        {
          "output_type": "execute_result",
          "data": {
            "text/plain": [
              "Year                              0\n",
              "LocationAbbr                      0\n",
              "LocationDesc                      0\n",
              "GeographicLevel                   0\n",
              "DataSource                        0\n",
              "Class                             0\n",
              "Topic                             0\n",
              "Data_Value                     8927\n",
              "Data_Value_Unit                   0\n",
              "Data_Value_Type                   0\n",
              "Data_Value_Footnote_Symbol    11622\n",
              "Data_Value_Footnote           11622\n",
              "StratificationCategory1           0\n",
              "Stratification1                   0\n",
              "StratificationCategory2           0\n",
              "Stratification2                   0\n",
              "TopicID                           0\n",
              "LocationID                        0\n",
              "Y_lat                             0\n",
              "X_lon                             0\n",
              "dtype: int64"
            ]
          },
          "metadata": {},
          "execution_count": 29
        }
      ]
    },
    {
      "cell_type": "code",
      "source": [
        "heart_df.Stratification2.unique()"
      ],
      "metadata": {
        "colab": {
          "base_uri": "https://localhost:8080/"
        },
        "id": "wJv86yF8Q3hq",
        "outputId": "214834ba-b38f-4e30-ee3e-dc17ef118b01"
      },
      "execution_count": 31,
      "outputs": [
        {
          "output_type": "execute_result",
          "data": {
            "text/plain": [
              "array(['Overall', 'White', 'Black', 'Hispanic',\n",
              "       'Asian and Pacific Islander', 'American Indian and Alaskan Native'],\n",
              "      dtype=object)"
            ]
          },
          "metadata": {},
          "execution_count": 31
        }
      ]
    },
    {
      "cell_type": "code",
      "source": [
        "import seaborn as sns\n",
        "sns.violinplot(x=\"Data_Value\",y=\"Stratification2\",data=heart_df)"
      ],
      "metadata": {
        "colab": {
          "base_uri": "https://localhost:8080/",
          "height": 467
        },
        "id": "usWFFuydRK6H",
        "outputId": "bb53de3a-43f6-442a-a468-e5180475c9d4"
      },
      "execution_count": 36,
      "outputs": [
        {
          "output_type": "execute_result",
          "data": {
            "text/plain": [
              "<Axes: xlabel='Data_Value', ylabel='Stratification2'>"
            ]
          },
          "metadata": {},
          "execution_count": 36
        },
        {
          "output_type": "display_data",
          "data": {
            "text/plain": [
              "<Figure size 640x480 with 1 Axes>"
            ],
            "image/png": "[encoded data removed]"
          },
          "metadata": {}
        }
      ]
    },
    {
      "cell_type": "code",
      "source": [
        "sns.displot(heart_df['Data_Value'])"
      ],
      "metadata": {
        "colab": {
          "base_uri": "https://localhost:8080/",
          "height": 524
        },
        "id": "vLmh83r9TPpZ",
        "outputId": "0a4264f6-0b3a-4885-a78a-323feac4d7f1"
      },
      "execution_count": 37,
      "outputs": [
        {
          "output_type": "execute_result",
          "data": {
            "text/plain": [
              "<seaborn.axisgrid.FacetGrid at 0x78109db58c40>"
            ]
          },
          "metadata": {},
          "execution_count": 37
        },
        {
          "output_type": "display_data",
          "data": {
            "text/plain": [
              "<Figure size 500x500 with 1 Axes>"
            ],
            "image/png": "[encoded data removed]"
          },
          "metadata": {}
        }
      ]
    },
    {
      "cell_type": "code",
      "source": [],
      "metadata": {
        "id": "KBCuwWubTa2W"
      },
      "execution_count": null,
      "outputs": []
    }
  ]
}